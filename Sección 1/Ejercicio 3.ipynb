{
 "cells": [
  {
   "cell_type": "code",
   "execution_count": null,
   "metadata": {
    "vscode": {
     "languageId": "plaintext"
    }
   },
   "outputs": [],
   "source": [
    "WITH PuntosTotales AS (\n",
    "    SELECT equipo, SUM(puntos) AS total_puntos\n",
    "    FROM Resultados_Qatar\n",
    "    GROUP BY equipo\n",
    "),\n",
    "Quintiles AS (\n",
    "    SELECT equipo, total_puntos, NTILE(5) OVER (ORDER BY total_puntos DESC) AS quintil\n",
    "    FROM PuntosTotales\n",
    ")\n",
    "SELECT equipo, total_puntos\n",
    "FROM Quintiles\n",
    "WHERE quintil = 1 \n",
    "ORDER BY total_puntos DESC;"
   ]
  }
 ],
 "metadata": {
  "language_info": {
   "name": "python"
  }
 },
 "nbformat": 4,
 "nbformat_minor": 2
}
