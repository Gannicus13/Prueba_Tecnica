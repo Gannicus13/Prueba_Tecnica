{
 "cells": [
  {
   "cell_type": "code",
   "execution_count": null,
   "metadata": {
    "vscode": {
     "languageId": "plaintext"
    }
   },
   "outputs": [],
   "source": [
    "# Ejercicio # 1  \n",
    "conn = sqlite3.connect('test.db')\n",
    "\n",
    "\n",
    "####PROGRAME SU RESPUESTA DENTRO DEL CONN.EXECUTE ENTRE LAS COMILLAS\n",
    "\n",
    "cursor = conn.execute('''\n",
    "SELECT equipo, grupo, SUM(puntos) AS total_puntos, SUM(gol_diferencia) AS total_gol_diferencia\n",
    "FROM Resultados_Qatar \n",
    "GROUP BY equipo, grupo ORDER BY grupo\n",
    "                       ''') \n",
    "print('PAIS','GRUPO','PUNTOS','GOL_DIFERENCIA')\n",
    "for row in cursor:\n",
    "  print(row)\n",
    "conn.close()"
   ]
  }
 ],
 "metadata": {
  "language_info": {
   "name": "python"
  }
 },
 "nbformat": 4,
 "nbformat_minor": 2
}
