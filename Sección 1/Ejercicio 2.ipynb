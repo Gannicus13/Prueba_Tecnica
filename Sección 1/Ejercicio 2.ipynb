{
 "cells": [
  {
   "cell_type": "code",
   "execution_count": null,
   "metadata": {
    "vscode": {
     "languageId": "plaintext"
    }
   },
   "outputs": [],
   "source": [
    "WITH Ranking AS (\n",
    "    SELECT equipo, GRUPO, puntos,  gol_diferencia,\n",
    "        ROW_NUMBER() OVER (PARTITION BY GRUPO ORDER BY puntos DESC, gol_diferencia DESC) AS ranking\n",
    "    FROM Resultados_Qatar\n",
    ")\n",
    "SELECT  r.equipo, r.GRUPO, r.puntos, r.gol_diferencia, c.fecha, c.hora, c.sede\n",
    "FROM Ranking r\n",
    "JOIN Clasificados c\n",
    "    ON (r.GRUPO = 'GRUPO A' AND c.partido = '1º del grupo A vs. 2º del grupo B')\n",
    "    OR (r.GRUPO = 'GRUPO B' AND c.partido = '1º del grupo B vs. 2º del grupo A')\n",
    "    OR (r.GRUPO = 'GRUPO C' AND c.partido = '1º del grupo C vs. 2º del grupo D')\n",
    "    OR (r.GRUPO = 'GRUPO D' AND c.partido = '1º del grupo D vs. 2º del grupo C')\n",
    "    OR (r.GRUPO = 'GRUPO E' AND c.partido = '1º del grupo E vs. 2º del grupo F')\n",
    "    OR (r.GRUPO = 'GRUPO F' AND c.partido = '1º del grupo F vs. 2º del grupo E')\n",
    "    OR (r.GRUPO = 'GRUPO G' AND c.partido = '1º del grupo G vs. 2º del grupo H')\n",
    "    OR (r.GRUPO = 'GRUPO H' AND c.partido = '1º del grupo H vs. 2º del grupo G')\n",
    "WHERE r.ranking <= 2\n",
    "ORDER BY r.GRUPO, r.ranking;  "
   ]
  }
 ],
 "metadata": {
  "language_info": {
   "name": "python"
  }
 },
 "nbformat": 4,
 "nbformat_minor": 2
}
